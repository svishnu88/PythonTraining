{
 "cells": [
  {
   "cell_type": "markdown",
   "metadata": {},
   "source": [
    "## Classes and functions"
   ]
  },
  {
   "cell_type": "code",
   "execution_count": 1,
   "metadata": {
    "collapsed": true
   },
   "outputs": [],
   "source": [
    "class Time:\n",
    "    \"\"\"Represents the time of day.\n",
    "       \n",
    "    attributes: hour, minute, second\n",
    "    \"\"\""
   ]
  },
  {
   "cell_type": "code",
   "execution_count": 2,
   "metadata": {
    "collapsed": true
   },
   "outputs": [],
   "source": [
    "time = Time()\n",
    "time.hour = 11\n",
    "time.minute = 59\n",
    "time.second = 30"
   ]
  },
  {
   "cell_type": "code",
   "execution_count": 5,
   "metadata": {
    "collapsed": true
   },
   "outputs": [],
   "source": [
    "time1 = Time()\n",
    "time1.hour = 11\n",
    "time1.minute = 59\n",
    "time1.second = 30"
   ]
  },
  {
   "cell_type": "markdown",
   "metadata": {},
   "source": [
    "## Pure Functions."
   ]
  },
  {
   "cell_type": "code",
   "execution_count": 4,
   "metadata": {
    "collapsed": true
   },
   "outputs": [],
   "source": [
    "def add_time(t1, t2):\n",
    "    sum = Time()\n",
    "    sum.hour = t1.hour + t2.hour\n",
    "    sum.minute = t1.minute + t2.minute\n",
    "    sum.second = t1.second + t2.second\n",
    "    return sum"
   ]
  },
  {
   "cell_type": "code",
   "execution_count": 6,
   "metadata": {
    "collapsed": false
   },
   "outputs": [
    {
     "name": "stdout",
     "output_type": "stream",
     "text": [
      "<__main__.Time object at 0x106908748>\n"
     ]
    }
   ],
   "source": [
    "print(add_time(time,time1))"
   ]
  },
  {
   "cell_type": "markdown",
   "metadata": {},
   "source": [
    "## Modifiers"
   ]
  },
  {
   "cell_type": "code",
   "execution_count": null,
   "metadata": {
    "collapsed": true
   },
   "outputs": [],
   "source": []
  },
  {
   "cell_type": "code",
   "execution_count": 7,
   "metadata": {
    "collapsed": true
   },
   "outputs": [],
   "source": [
    "def increment(time, seconds):\n",
    "    time.second += seconds\n",
    "\n",
    "    if time.second >= 60:\n",
    "        time.second -= 60\n",
    "        time.minute += 1\n",
    "\n",
    "    if time.minute >= 60:\n",
    "        time.minute -= 60\n",
    "        time.hour += 1"
   ]
  },
  {
   "cell_type": "code",
   "execution_count": null,
   "metadata": {
    "collapsed": true
   },
   "outputs": [],
   "source": []
  },
  {
   "cell_type": "code",
   "execution_count": null,
   "metadata": {
    "collapsed": true
   },
   "outputs": [],
   "source": []
  },
  {
   "cell_type": "markdown",
   "metadata": {},
   "source": [
    "## Prototyping versus planning\n",
    "\n",
    "```bash\n",
    "The development plan I am demonstrating is called “prototype and patch”. For each function, I wrote a prototype that performed the basic calculation and then tested it, patching errors along the way.\n",
    "\n",
    "This approach can be effective, especially if you don’t yet have a deep understanding of the problem. But incremental corrections can generate code that is unnecessarily complicated—since it deals with many special cases—and unreliable—since it is hard to know if you have found all the errors.\n",
    "\n",
    "An alternative is designed development, in which high-level insight into the problem can make the programming much easier. In this case, the insight is that a Time object is really a three-digit number in base 60 (see http://en.wikipedia.org/wiki/Sexagesimal.)! The second attribute is the “ones column”, the minute attribute is the “sixties column”, and the hour attribute is the “thirty-six hundreds column”.\n",
    "\n",
    "When we wrote add_time and increment, we were effectively doing addition in base 60, which is why we had to carry from one column to the next.\n",
    "\n",
    "This observation suggests another approach to the whole problem—we can convert Time objects to integers and take advantage of the fact that the computer knows how to do integer arithmetic.\n",
    "\n",
    "```"
   ]
  },
  {
   "cell_type": "code",
   "execution_count": null,
   "metadata": {
    "collapsed": true
   },
   "outputs": [],
   "source": []
  },
  {
   "cell_type": "code",
   "execution_count": null,
   "metadata": {
    "collapsed": true
   },
   "outputs": [],
   "source": []
  },
  {
   "cell_type": "code",
   "execution_count": null,
   "metadata": {
    "collapsed": true
   },
   "outputs": [],
   "source": []
  },
  {
   "cell_type": "code",
   "execution_count": null,
   "metadata": {
    "collapsed": true
   },
   "outputs": [],
   "source": []
  },
  {
   "cell_type": "code",
   "execution_count": 6,
   "metadata": {
    "collapsed": false
   },
   "outputs": [
    {
     "name": "stdout",
     "output_type": "stream",
     "text": [
      "Starts at 12:00:00\n",
      "Run time 01:49:00\n",
      "Ends at 13:49:00\n",
      "Does it end after it begins? True\n",
      "Home by 13:59:00\n",
      "Half marathon time 01:34:05\n",
      "Time per mile 00:07:10\n",
      "0\n",
      "Monday\n",
      "Days until birthday 350\n",
      "Double Day 2010-03-12 00:00:00\n"
     ]
    }
   ],
   "source": [
    "from __future__ import print_function, division\n",
    "\n",
    "\n",
    "from datetime import datetime\n",
    "\n",
    "# to avoid duplicating code, I'm importing everything from Time1\n",
    "from Time1 import *\n",
    "\n",
    "\n",
    "def is_after(t1, t2):\n",
    "    \"\"\"Returns True if t1 is after t2; false otherwise.\"\"\"\n",
    "    return (t1.hour, t1.minute, t1.second) > (t2.hour, t2.minute, t2.second)\n",
    "\n",
    "\n",
    "def increment(t1, seconds):\n",
    "    \"\"\"Adds seconds to a Time object.\"\"\"\n",
    "    assert valid_time(t1)\n",
    "    seconds += time_to_int(t1)\n",
    "    return int_to_time(seconds)\n",
    "\n",
    "\n",
    "def mul_time(t1, factor):\n",
    "    \"\"\"Multiplies a Time object by a factor.\"\"\"\n",
    "    assert valid_time(t1)\n",
    "    seconds = time_to_int(t1) * factor\n",
    "    return int_to_time(seconds)\n",
    "\n",
    "\n",
    "def days_until_birthday(birthday):\n",
    "    \"\"\"How long until my next birthday?\"\"\"\n",
    "    today = datetime.today()\n",
    "    # when is my birthday this year?\n",
    "    next_birthday = datetime(today.year, birthday.month, birthday.day)\n",
    "\n",
    "    # if it has gone by, when will it be next year\n",
    "    if today > next_birthday:\n",
    "        next_birthday = datetime(today.year+1, birthday.month, birthday.day)\n",
    "\n",
    "    # subtraction on datetime objects returns a timedelta object\n",
    "    delta = next_birthday - today\n",
    "    return delta.days\n",
    "\n",
    "\n",
    "def double_day(b1, b2):\n",
    "    \"\"\"Compute the day when one person is twice as old as the other.\n",
    "\n",
    "    b1: datetime birthday of the younger person\n",
    "    b2: datetime birthday of the older person\n",
    "    \"\"\"\n",
    "    assert b1 > b2\n",
    "    delta = b1 - b2\n",
    "    dday = b1 + delta\n",
    "    return dday\n",
    "\n",
    "\n",
    "def datetime_exercises():\n",
    "    \"\"\"Exercise solutions.\"\"\"\n",
    "\n",
    "    # print today's day of the week\n",
    "    today = datetime.today()\n",
    "    print(today.weekday())\n",
    "    print(today.strftime('%A'))\n",
    "\n",
    "    # compute the number of days until the next birthday\n",
    "    # (note that it usually gets rounded down)\n",
    "    birthday = datetime(1967, 5, 2)\n",
    "    print('Days until birthday', end=' ')\n",
    "    print(days_until_birthday(birthday))\n",
    "\n",
    "    # compute the day one person is twice as old as another\n",
    "    b1 = datetime(2006, 12, 26)\n",
    "    b2 = datetime(2003, 10, 11)\n",
    "    print('Double Day', end=' ')\n",
    "    print(double_day(b1, b2))\n",
    "\n",
    "\n",
    "def main():\n",
    "    # if a movie starts at noon...\n",
    "    noon_time = Time()\n",
    "    noon_time.hour = 12\n",
    "    noon_time.minute = 0\n",
    "    noon_time.second = 0\n",
    "\n",
    "    print('Starts at', end=' ')\n",
    "    print_time(noon_time)\n",
    "\n",
    "    # and the run time of the movie is 109 minutes...\n",
    "    movie_minutes = 109\n",
    "    run_time = int_to_time(movie_minutes * 60)\n",
    "    print('Run time', end=' ')\n",
    "    print_time(run_time)\n",
    "\n",
    "    # what time does the movie end?\n",
    "    end_time = add_times(noon_time, run_time)\n",
    "    print('Ends at', end=' ')\n",
    "    print_time(end_time)\n",
    "\n",
    "    print('Does it end after it begins?', end=' ')\n",
    "    print(is_after(end_time, noon_time))\n",
    "\n",
    "    print('Home by', end=' ')\n",
    "    travel_time = 600      # 10 minutes\n",
    "    home_time = increment(end_time, travel_time)\n",
    "    print_time(home_time)\n",
    "\n",
    "    race_time = Time()\n",
    "    race_time.hour = 1\n",
    "    race_time.minute = 34\n",
    "    race_time.second = 5\n",
    "\n",
    "    print('Half marathon time', end=' ')\n",
    "    print_time(race_time)\n",
    "\n",
    "    distance = 13.1       # miles\n",
    "    pace = mul_time(race_time, 1/distance)\n",
    "\n",
    "    print('Time per mile', end=' ')\n",
    "    print_time(pace)\n",
    "\n",
    "    datetime_exercises()\n",
    "\n",
    "\n",
    "if __name__ == '__main__':\n",
    "    main()"
   ]
  },
  {
   "cell_type": "code",
   "execution_count": null,
   "metadata": {
    "collapsed": true
   },
   "outputs": [],
   "source": []
  }
 ],
 "metadata": {
  "kernelspec": {
   "display_name": "Python 3",
   "language": "python",
   "name": "python3"
  },
  "language_info": {
   "codemirror_mode": {
    "name": "ipython",
    "version": 3
   },
   "file_extension": ".py",
   "mimetype": "text/x-python",
   "name": "python",
   "nbconvert_exporter": "python",
   "pygments_lexer": "ipython3",
   "version": "3.5.1"
  }
 },
 "nbformat": 4,
 "nbformat_minor": 0
}
