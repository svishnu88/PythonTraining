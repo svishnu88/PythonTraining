{
 "cells": [
  {
   "cell_type": "markdown",
   "metadata": {},
   "source": [
    "# Filenames and paths"
   ]
  },
  {
   "cell_type": "code",
   "execution_count": 1,
   "metadata": {
    "collapsed": false,
    "scrolled": true
   },
   "outputs": [
    {
     "data": {
      "text/plain": [
       "'/Users/vishnu/Documents/githubprojects/PythonTraining/class'"
      ]
     },
     "execution_count": 1,
     "metadata": {},
     "output_type": "execute_result"
    }
   ],
   "source": [
    "import os\n",
    "cwd = os.getcwd()\n",
    "cwd"
   ]
  },
  {
   "cell_type": "code",
   "execution_count": 3,
   "metadata": {
    "collapsed": false,
    "scrolled": true
   },
   "outputs": [
    {
     "name": "stdout",
     "output_type": "stream",
     "text": [
      "total 168\r\n",
      "-rw-r--r--  1 vishnu  staff   6971 May 10 12:24 Class1.ipynb\r\n",
      "-rw-r--r--  1 vishnu  staff   3579 May 16 09:59 Time1.ipynb\r\n",
      "-rw-r--r--@ 1 vishnu  staff   2084 May 16 09:59 Time1.py\r\n",
      "drwxr-xr-x  4 vishnu  staff    136 May 16 10:00 \u001b[34m__pycache__\u001b[m\u001b[m/\r\n",
      "-rw-r--r--  1 vishnu  staff   9482 May 16 10:51 class10.ipynb\r\n",
      "-rw-r--r--  1 vishnu  staff   2200 May 10 12:29 class2.ipynb\r\n",
      "-rw-r--r--  1 vishnu  staff   1820 May 10 12:47 class3.ipynb\r\n",
      "-rw-r--r--  1 vishnu  staff  20785 May 16 11:04 class7.ipynb\r\n",
      "-rw-r--r--  1 vishnu  staff   1808 May 16 09:47 class8-1.ipynb\r\n",
      "-rw-r--r--  1 vishnu  staff   3046 May 16 09:47 class8.ipynb\r\n",
      "-rw-r--r--@ 1 vishnu  staff   1444 May 16 09:23 class8.py\r\n",
      "-rw-r--r--  1 vishnu  staff   9861 May 16 10:31 class9.ipynb\r\n"
     ]
    }
   ],
   "source": [
    "ls -l"
   ]
  },
  {
   "cell_type": "code",
   "execution_count": 4,
   "metadata": {
    "collapsed": false,
    "scrolled": true
   },
   "outputs": [
    {
     "data": {
      "text/plain": [
       "'/Users/vishnu/Documents/githubprojects/PythonTraining/class/Class1.ipynb'"
      ]
     },
     "execution_count": 4,
     "metadata": {},
     "output_type": "execute_result"
    }
   ],
   "source": [
    "os.path.abspath('Class1.ipynb')"
   ]
  },
  {
   "cell_type": "code",
   "execution_count": 5,
   "metadata": {
    "collapsed": false,
    "scrolled": true
   },
   "outputs": [
    {
     "data": {
      "text/plain": [
       "True"
      ]
     },
     "execution_count": 5,
     "metadata": {},
     "output_type": "execute_result"
    }
   ],
   "source": [
    "os.path.exists('Class1.ipynb')"
   ]
  },
  {
   "cell_type": "code",
   "execution_count": 8,
   "metadata": {
    "collapsed": false,
    "scrolled": true
   },
   "outputs": [
    {
     "data": {
      "text/plain": [
       "True"
      ]
     },
     "execution_count": 8,
     "metadata": {},
     "output_type": "execute_result"
    }
   ],
   "source": [
    "os.path.isdir('/Users/vishnu/Documents')"
   ]
  },
  {
   "cell_type": "code",
   "execution_count": 6,
   "metadata": {
    "collapsed": true,
    "scrolled": true
   },
   "outputs": [],
   "source": [
    "def walk(dirname):\n",
    "    for name in os.listdir(dirname):\n",
    "        path = os.path.join(dirname, name)\n",
    "\n",
    "        if os.path.isfile(path):\n",
    "            print(path)\n",
    "        else:\n",
    "            walk(path)"
   ]
  },
  {
   "cell_type": "code",
   "execution_count": 7,
   "metadata": {
    "collapsed": false,
    "scrolled": true
   },
   "outputs": [
    {
     "name": "stdout",
     "output_type": "stream",
     "text": [
      "/Users/vishnu/Documents/githubprojects/PythonTraining/.DS_Store\n",
      "/Users/vishnu/Documents/githubprojects/PythonTraining/.git/COMMIT_EDITMSG\n",
      "/Users/vishnu/Documents/githubprojects/PythonTraining/.git/config\n",
      "/Users/vishnu/Documents/githubprojects/PythonTraining/.git/description\n",
      "/Users/vishnu/Documents/githubprojects/PythonTraining/.git/HEAD\n",
      "/Users/vishnu/Documents/githubprojects/PythonTraining/.git/hooks/applypatch-msg.sample\n",
      "/Users/vishnu/Documents/githubprojects/PythonTraining/.git/hooks/commit-msg.sample\n",
      "/Users/vishnu/Documents/githubprojects/PythonTraining/.git/hooks/post-update.sample\n",
      "/Users/vishnu/Documents/githubprojects/PythonTraining/.git/hooks/pre-applypatch.sample\n",
      "/Users/vishnu/Documents/githubprojects/PythonTraining/.git/hooks/pre-commit.sample\n",
      "/Users/vishnu/Documents/githubprojects/PythonTraining/.git/hooks/pre-push.sample\n",
      "/Users/vishnu/Documents/githubprojects/PythonTraining/.git/hooks/pre-rebase.sample\n",
      "/Users/vishnu/Documents/githubprojects/PythonTraining/.git/hooks/prepare-commit-msg.sample\n",
      "/Users/vishnu/Documents/githubprojects/PythonTraining/.git/hooks/update.sample\n",
      "/Users/vishnu/Documents/githubprojects/PythonTraining/.git/index\n",
      "/Users/vishnu/Documents/githubprojects/PythonTraining/.git/info/exclude\n",
      "/Users/vishnu/Documents/githubprojects/PythonTraining/.git/logs/HEAD\n",
      "/Users/vishnu/Documents/githubprojects/PythonTraining/.git/logs/refs/heads/master\n",
      "/Users/vishnu/Documents/githubprojects/PythonTraining/.git/logs/refs/remotes/origin/HEAD\n",
      "/Users/vishnu/Documents/githubprojects/PythonTraining/.git/logs/refs/remotes/origin/master\n",
      "/Users/vishnu/Documents/githubprojects/PythonTraining/.git/objects/02/9d0690ab56092c0d90b412acc21fac39653db2\n",
      "/Users/vishnu/Documents/githubprojects/PythonTraining/.git/objects/09/56cef69b9f881140a49860b630085c253e3123\n",
      "/Users/vishnu/Documents/githubprojects/PythonTraining/.git/objects/09/9986355242164369ad3483443a3de61c409756\n",
      "/Users/vishnu/Documents/githubprojects/PythonTraining/.git/objects/0d/716cee2198b06a5210014ce87dd62f864e0b78\n",
      "/Users/vishnu/Documents/githubprojects/PythonTraining/.git/objects/0f/bc23e556daa60fc83b469e22f897503ba97788\n",
      "/Users/vishnu/Documents/githubprojects/PythonTraining/.git/objects/16/11b334818706beea1ca36cd31dffa6139b07c3\n",
      "/Users/vishnu/Documents/githubprojects/PythonTraining/.git/objects/18/be9011293493783605dbfd719f30d61b1b7904\n",
      "/Users/vishnu/Documents/githubprojects/PythonTraining/.git/objects/1a/5bcc92f4ea95945c3d1c28586299f7b60c4f4b\n",
      "/Users/vishnu/Documents/githubprojects/PythonTraining/.git/objects/1d/eede587622c04f04cd59add15826afcbd6d313\n",
      "/Users/vishnu/Documents/githubprojects/PythonTraining/.git/objects/1e/d5f5a2030b643c1bc24a949e3defe449990bd4\n",
      "/Users/vishnu/Documents/githubprojects/PythonTraining/.git/objects/27/8e79db6e8f2fc0935fcf06871e3ebf15d08b2b\n",
      "/Users/vishnu/Documents/githubprojects/PythonTraining/.git/objects/28/f1380654afbd46269690d36f1daadf5a91593a\n",
      "/Users/vishnu/Documents/githubprojects/PythonTraining/.git/objects/37/d10506b69ccbbf8def355e628c8df6a948a861\n",
      "/Users/vishnu/Documents/githubprojects/PythonTraining/.git/objects/39/576140729b0b6a72082b4522738f5c6223e1be\n",
      "/Users/vishnu/Documents/githubprojects/PythonTraining/.git/objects/3b/16bb0ca7394555d7b39a267acd36512e2a5f02\n",
      "/Users/vishnu/Documents/githubprojects/PythonTraining/.git/objects/3d/58e9f72fa817912bb3f8651a1d2aaec911fb67\n",
      "/Users/vishnu/Documents/githubprojects/PythonTraining/.git/objects/40/4270f6dc03d79720c899a4f0e0733f77ac461f\n",
      "/Users/vishnu/Documents/githubprojects/PythonTraining/.git/objects/51/6bec4a9d2705a0a6c47aaf57d51c12a56b2b2c\n",
      "/Users/vishnu/Documents/githubprojects/PythonTraining/.git/objects/55/b5bee931aa9625d148589674a9f4ce8869fcbb\n",
      "/Users/vishnu/Documents/githubprojects/PythonTraining/.git/objects/5c/8bb8faadc9395e2135d1b7a545389c2a51b9c8\n",
      "/Users/vishnu/Documents/githubprojects/PythonTraining/.git/objects/62/17d94abc38c65ed180ea0a4c01fffa27d20f70\n",
      "/Users/vishnu/Documents/githubprojects/PythonTraining/.git/objects/66/89b12b0207603bb5c6683ba05d2eb255e30f60\n",
      "/Users/vishnu/Documents/githubprojects/PythonTraining/.git/objects/69/79bf0259a795470767d91a11e5c28d671f09a9\n",
      "/Users/vishnu/Documents/githubprojects/PythonTraining/.git/objects/6c/a1f847de6a6224a0408a84fedf1c7400c32a86\n",
      "/Users/vishnu/Documents/githubprojects/PythonTraining/.git/objects/6e/6a6c1d3703a7189b42bad4228ffcfab30ff50c\n",
      "/Users/vishnu/Documents/githubprojects/PythonTraining/.git/objects/72/769a37d60c710f9119b2b90f34952a23334ebc\n",
      "/Users/vishnu/Documents/githubprojects/PythonTraining/.git/objects/75/74323fb18db027446590c3660cc16d6916dc92\n",
      "/Users/vishnu/Documents/githubprojects/PythonTraining/.git/objects/79/902ec586fe304fc2c2a752235c643d11a7f4fd\n",
      "/Users/vishnu/Documents/githubprojects/PythonTraining/.git/objects/a6/cd9506550fe200569ae4d76ba332dd0c84e93b\n",
      "/Users/vishnu/Documents/githubprojects/PythonTraining/.git/objects/b3/26e4bd8ba76b854a2fc80043eee9f0ee8d98b0\n",
      "/Users/vishnu/Documents/githubprojects/PythonTraining/.git/objects/b4/2ca1fbad0151204c833cce81e1251379a0b86e\n",
      "/Users/vishnu/Documents/githubprojects/PythonTraining/.git/objects/b7/622655af016474fb8b9d901bee9886d051f87b\n",
      "/Users/vishnu/Documents/githubprojects/PythonTraining/.git/objects/b7/9772237bdb6c40fad2fc1820466002129b45af\n",
      "/Users/vishnu/Documents/githubprojects/PythonTraining/.git/objects/bd/8bd8bb37658058caf5b035de02c69e8a51568c\n",
      "/Users/vishnu/Documents/githubprojects/PythonTraining/.git/objects/bd/c3a1a6e5bab53c0b123af2d4527a8fcc9352eb\n",
      "/Users/vishnu/Documents/githubprojects/PythonTraining/.git/objects/dd/2a3aaf4c156e391caee91bdd40a581fdae9dac\n",
      "/Users/vishnu/Documents/githubprojects/PythonTraining/.git/objects/ef/a094eb08408467eb6b8903c9c8c2315b673598\n",
      "/Users/vishnu/Documents/githubprojects/PythonTraining/.git/objects/f2/6224df1feb4ae734a47180ae8553371a791349\n",
      "/Users/vishnu/Documents/githubprojects/PythonTraining/.git/objects/f5/1325fd81d6f6fcdebf0230990a6eb31321937d\n",
      "/Users/vishnu/Documents/githubprojects/PythonTraining/.git/objects/f9/193f20274bbf003ef3582b97595307abd645a8\n",
      "/Users/vishnu/Documents/githubprojects/PythonTraining/.git/objects/f9/510e943cae013bc8d8693bb22d0fa3700751f1\n",
      "/Users/vishnu/Documents/githubprojects/PythonTraining/.git/objects/pack/pack-edd673026c744deaf3998db7318cdb8ddcbcebef.idx\n",
      "/Users/vishnu/Documents/githubprojects/PythonTraining/.git/objects/pack/pack-edd673026c744deaf3998db7318cdb8ddcbcebef.pack\n",
      "/Users/vishnu/Documents/githubprojects/PythonTraining/.git/packed-refs\n",
      "/Users/vishnu/Documents/githubprojects/PythonTraining/.git/refs/heads/master\n",
      "/Users/vishnu/Documents/githubprojects/PythonTraining/.git/refs/remotes/origin/HEAD\n",
      "/Users/vishnu/Documents/githubprojects/PythonTraining/.git/refs/remotes/origin/master\n",
      "/Users/vishnu/Documents/githubprojects/PythonTraining/class/.ipynb_checkpoints/Class1-checkpoint.ipynb\n",
      "/Users/vishnu/Documents/githubprojects/PythonTraining/class/.ipynb_checkpoints/class10-checkpoint.ipynb\n",
      "/Users/vishnu/Documents/githubprojects/PythonTraining/class/.ipynb_checkpoints/class2-checkpoint.ipynb\n",
      "/Users/vishnu/Documents/githubprojects/PythonTraining/class/.ipynb_checkpoints/class3-checkpoint.ipynb\n",
      "/Users/vishnu/Documents/githubprojects/PythonTraining/class/.ipynb_checkpoints/class7-checkpoint.ipynb\n",
      "/Users/vishnu/Documents/githubprojects/PythonTraining/class/.ipynb_checkpoints/class8-1-checkpoint.ipynb\n",
      "/Users/vishnu/Documents/githubprojects/PythonTraining/class/.ipynb_checkpoints/class8-checkpoint.ipynb\n",
      "/Users/vishnu/Documents/githubprojects/PythonTraining/class/.ipynb_checkpoints/class9-checkpoint.ipynb\n",
      "/Users/vishnu/Documents/githubprojects/PythonTraining/class/.ipynb_checkpoints/Time1-checkpoint.ipynb\n",
      "/Users/vishnu/Documents/githubprojects/PythonTraining/class/__pycache__/class8.cpython-35.pyc\n",
      "/Users/vishnu/Documents/githubprojects/PythonTraining/class/__pycache__/Time1.cpython-35.pyc\n",
      "/Users/vishnu/Documents/githubprojects/PythonTraining/class/Class1.ipynb\n",
      "/Users/vishnu/Documents/githubprojects/PythonTraining/class/class10.ipynb\n",
      "/Users/vishnu/Documents/githubprojects/PythonTraining/class/class2.ipynb\n",
      "/Users/vishnu/Documents/githubprojects/PythonTraining/class/class3.ipynb\n",
      "/Users/vishnu/Documents/githubprojects/PythonTraining/class/class7.ipynb\n",
      "/Users/vishnu/Documents/githubprojects/PythonTraining/class/class8-1.ipynb\n",
      "/Users/vishnu/Documents/githubprojects/PythonTraining/class/class8.ipynb\n",
      "/Users/vishnu/Documents/githubprojects/PythonTraining/class/class8.py\n",
      "/Users/vishnu/Documents/githubprojects/PythonTraining/class/class9.ipynb\n",
      "/Users/vishnu/Documents/githubprojects/PythonTraining/class/Time1.ipynb\n",
      "/Users/vishnu/Documents/githubprojects/PythonTraining/class/Time1.py\n",
      "/Users/vishnu/Documents/githubprojects/PythonTraining/exercises/.DS_Store\n",
      "/Users/vishnu/Documents/githubprojects/PythonTraining/exercises/.ipynb_checkpoints/Exercise 1-checkpoint.ipynb\n",
      "/Users/vishnu/Documents/githubprojects/PythonTraining/exercises/.ipynb_checkpoints/Exercise 2-checkpoint.ipynb\n",
      "/Users/vishnu/Documents/githubprojects/PythonTraining/exercises/.ipynb_checkpoints/Exercise3 solutions-checkpoint.ipynb\n",
      "/Users/vishnu/Documents/githubprojects/PythonTraining/exercises/.ipynb_checkpoints/Exercise3-checkpoint.ipynb\n",
      "/Users/vishnu/Documents/githubprojects/PythonTraining/exercises/.ipynb_checkpoints/Exercise4 -checkpoint.ipynb\n",
      "/Users/vishnu/Documents/githubprojects/PythonTraining/exercises/.ipynb_checkpoints/Solution4-checkpoint.ipynb\n",
      "/Users/vishnu/Documents/githubprojects/PythonTraining/exercises/day2/.DS_Store\n",
      "/Users/vishnu/Documents/githubprojects/PythonTraining/exercises/day2/.ipynb_checkpoints/Exercise1-checkpoint.ipynb\n",
      "/Users/vishnu/Documents/githubprojects/PythonTraining/exercises/day2/Screen Shot 2016-05-11 at 3.57.35 PM.png\n",
      "/Users/vishnu/Documents/githubprojects/PythonTraining/exercises/day2/Screen Shot 2016-05-11 at 3.58.34 PM.png\n",
      "/Users/vishnu/Documents/githubprojects/PythonTraining/exercises/Exercise 1.ipynb\n",
      "/Users/vishnu/Documents/githubprojects/PythonTraining/exercises/Exercise 2.ipynb\n",
      "/Users/vishnu/Documents/githubprojects/PythonTraining/exercises/Exercise3.ipynb\n",
      "/Users/vishnu/Documents/githubprojects/PythonTraining/exercises/Exercise4 .ipynb\n",
      "/Users/vishnu/Documents/githubprojects/PythonTraining/exercises/Solution4.ipynb\n",
      "/Users/vishnu/Documents/githubprojects/PythonTraining/images/class3img.png\n",
      "/Users/vishnu/Documents/githubprojects/PythonTraining/images/eq_12.png\n",
      "/Users/vishnu/Documents/githubprojects/PythonTraining/images/squareimage.png\n",
      "/Users/vishnu/Documents/githubprojects/PythonTraining/README.md\n",
      "/Users/vishnu/Documents/githubprojects/PythonTraining/solutions/.ipynb_checkpoints/Solution4-checkpoint.ipynb\n",
      "/Users/vishnu/Documents/githubprojects/PythonTraining/solutions/.ipynb_checkpoints/Solutions4-checkpoint.ipynb\n",
      "/Users/vishnu/Documents/githubprojects/PythonTraining/solutions/Exercise3 solutions.ipynb\n",
      "/Users/vishnu/Documents/githubprojects/PythonTraining/solutions/Solution4.ipynb\n",
      "/Users/vishnu/Documents/githubprojects/PythonTraining/solutions/Solutions4.ipynb\n"
     ]
    }
   ],
   "source": [
    "path = '/Users/vishnu/Documents/githubprojects/PythonTraining'\n",
    "walk(path)"
   ]
  },
  {
   "cell_type": "markdown",
   "metadata": {},
   "source": [
    "# Catching exceptions"
   ]
  },
  {
   "cell_type": "code",
   "execution_count": 8,
   "metadata": {
    "collapsed": false,
    "scrolled": true
   },
   "outputs": [
    {
     "name": "stdout",
     "output_type": "stream",
     "text": [
      "Some one else took class 4\n"
     ]
    }
   ],
   "source": [
    "try:    \n",
    "    fin = open('class4')\n",
    "except:\n",
    "    print('Some one else took class 4')"
   ]
  },
  {
   "cell_type": "markdown",
   "metadata": {},
   "source": [
    "# Classes and objects"
   ]
  },
  {
   "cell_type": "code",
   "execution_count": 11,
   "metadata": {
    "collapsed": true,
    "scrolled": true
   },
   "outputs": [],
   "source": [
    "from __future__ import print_function, division\n",
    "\n",
    "\n",
    "class Point:\n",
    "    \"\"\"Represents a point in 2-D space.\n",
    "\n",
    "    attributes: x, y\n",
    "    \"\"\""
   ]
  },
  {
   "cell_type": "markdown",
   "metadata": {},
   "source": [
    "# Programmer-defined types\n",
    "\n",
    "```bash\n",
    "\n",
    "We have used many of Python’s built-in types; now we are going to define a new type. As an example, we will create a type called Point that represents a point in two-dimensional space.\n",
    "\n",
    "In mathematical notation, points are often written in parentheses with a comma separating the coordinates. For example, (0,0) represents the origin, and (x,y) represents the point x units to the right and y units up from the origin.\n",
    "\n",
    "There are several ways we might represent points in Python:\n",
    "\n",
    "    We could store the coordinates separately in two variables, x and y.\n",
    "\n",
    "    We could store the coordinates as elements in a list or tuple.\n",
    "\n",
    "    We could create a new type to represent points as objects.\n",
    "\n",
    "    \n",
    "    Creating a new type is more complicated than the other options, but it has advantages that will be apparent \n",
    "    soon.\n",
    "\n",
    "```"
   ]
  },
  {
   "cell_type": "code",
   "execution_count": null,
   "metadata": {
    "collapsed": true,
    "scrolled": true
   },
   "outputs": [],
   "source": []
  },
  {
   "cell_type": "code",
   "execution_count": null,
   "metadata": {
    "collapsed": true,
    "scrolled": true
   },
   "outputs": [],
   "source": []
  },
  {
   "cell_type": "markdown",
   "metadata": {},
   "source": [
    "### The class object is like a factory for creating objects. To create a Point, you call Point as if it were a function."
   ]
  },
  {
   "cell_type": "code",
   "execution_count": 12,
   "metadata": {
    "collapsed": false,
    "scrolled": true
   },
   "outputs": [
    {
     "data": {
      "text/plain": [
       "<__main__.Point at 0x1067c09e8>"
      ]
     },
     "execution_count": 12,
     "metadata": {},
     "output_type": "execute_result"
    }
   ],
   "source": [
    "blank = Point()\n",
    "blank"
   ]
  },
  {
   "cell_type": "code",
   "execution_count": 13,
   "metadata": {
    "collapsed": false,
    "scrolled": true
   },
   "outputs": [],
   "source": [
    "blank.x = 3.0\n",
    "blank.y = 4.0\n",
    "blank.z = 10.0"
   ]
  },
  {
   "cell_type": "code",
   "execution_count": 14,
   "metadata": {
    "collapsed": false,
    "scrolled": true
   },
   "outputs": [
    {
     "data": {
      "text/plain": [
       "3.0"
      ]
     },
     "execution_count": 14,
     "metadata": {},
     "output_type": "execute_result"
    }
   ],
   "source": [
    "blank.x "
   ]
  },
  {
   "cell_type": "code",
   "execution_count": 29,
   "metadata": {
    "collapsed": true,
    "scrolled": true
   },
   "outputs": [],
   "source": [
    "\n",
    "def print_point(p):\n",
    "    print('({0}, {1})'.format(p.x, p.y))"
   ]
  },
  {
   "cell_type": "code",
   "execution_count": 30,
   "metadata": {
    "collapsed": false,
    "scrolled": true
   },
   "outputs": [
    {
     "name": "stdout",
     "output_type": "stream",
     "text": [
      "(3.0, 4.0)\n"
     ]
    }
   ],
   "source": [
    "print_point(blank)"
   ]
  },
  {
   "cell_type": "code",
   "execution_count": null,
   "metadata": {
    "collapsed": true,
    "scrolled": true
   },
   "outputs": [],
   "source": []
  },
  {
   "cell_type": "code",
   "execution_count": null,
   "metadata": {
    "collapsed": true,
    "scrolled": true
   },
   "outputs": [],
   "source": []
  },
  {
   "cell_type": "markdown",
   "metadata": {},
   "source": [
    "## Write a function to calculate the distance between two points using the point as the arguments."
   ]
  },
  {
   "cell_type": "code",
   "execution_count": null,
   "metadata": {
    "collapsed": true,
    "scrolled": true
   },
   "outputs": [],
   "source": []
  },
  {
   "cell_type": "code",
   "execution_count": null,
   "metadata": {
    "collapsed": true,
    "scrolled": true
   },
   "outputs": [],
   "source": []
  },
  {
   "cell_type": "code",
   "execution_count": null,
   "metadata": {
    "collapsed": true,
    "scrolled": true
   },
   "outputs": [],
   "source": []
  },
  {
   "cell_type": "code",
   "execution_count": null,
   "metadata": {
    "collapsed": true,
    "scrolled": true
   },
   "outputs": [],
   "source": []
  },
  {
   "cell_type": "code",
   "execution_count": null,
   "metadata": {
    "collapsed": true,
    "scrolled": true
   },
   "outputs": [],
   "source": []
  },
  {
   "cell_type": "code",
   "execution_count": 33,
   "metadata": {
    "collapsed": true,
    "scrolled": true
   },
   "outputs": [],
   "source": [
    "p1 = Point()\n",
    "p1.x=10\n",
    "p1.y=5\n",
    "p2 = Point()\n",
    "p2.x = 5\n",
    "p2.y = 10"
   ]
  },
  {
   "cell_type": "code",
   "execution_count": null,
   "metadata": {
    "collapsed": true,
    "scrolled": true
   },
   "outputs": [],
   "source": []
  },
  {
   "cell_type": "code",
   "execution_count": 35,
   "metadata": {
    "collapsed": true,
    "scrolled": true
   },
   "outputs": [],
   "source": [
    "import math\n",
    "def distance_between_points(p1, p2):\n",
    "    \"\"\"Computes the distance between two Point objects.\n",
    "\n",
    "    p1: Point\n",
    "    p2: Point\n",
    "\n",
    "    returns: float\n",
    "    \"\"\"\n",
    "    dx = p1.x - p2.x\n",
    "    dy = p1.y - p2.y\n",
    "    dist = math.sqrt(dx**2 + dy**2)\n",
    "    return dist"
   ]
  },
  {
   "cell_type": "code",
   "execution_count": 36,
   "metadata": {
    "collapsed": false,
    "scrolled": true
   },
   "outputs": [
    {
     "data": {
      "text/plain": [
       "7.0710678118654755"
      ]
     },
     "execution_count": 36,
     "metadata": {},
     "output_type": "execute_result"
    }
   ],
   "source": [
    "distance_between_points(p1,p2)"
   ]
  },
  {
   "cell_type": "code",
   "execution_count": null,
   "metadata": {
    "collapsed": true,
    "scrolled": true
   },
   "outputs": [],
   "source": []
  }
 ],
 "metadata": {
  "kernelspec": {
   "display_name": "Python 3",
   "language": "python",
   "name": "python3"
  },
  "language_info": {
   "codemirror_mode": {
    "name": "ipython",
    "version": 3
   },
   "file_extension": ".py",
   "mimetype": "text/x-python",
   "name": "python",
   "nbconvert_exporter": "python",
   "pygments_lexer": "ipython3",
   "version": "3.5.1"
  }
 },
 "nbformat": 4,
 "nbformat_minor": 0
}
