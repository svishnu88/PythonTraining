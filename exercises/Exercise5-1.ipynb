{
 "cells": [
  {
   "cell_type": "markdown",
   "metadata": {},
   "source": [
    "# Exercise 1"
   ]
  },
  {
   "cell_type": "markdown",
   "metadata": {},
   "source": [
    "```bash\n",
    "\n",
    "The datetime module provides time objects that are similar to the Time objects in this chapter, but they provide a rich set of methods and operators. Read the documentation at http://docs.python.org/3/library/datetime.html.\n",
    "\n",
    "    1)Use the datetime module to write a program that gets the current date and prints the day of the week.\n",
    "\n",
    "    2)Write a program that takes a birthday as input and prints the user’s age and the number of days, hours, \n",
    "      minutes and seconds until their next birthday.\n",
    "\n",
    "    3)For two people born on different days, there is a day when one is twice as old as the other. That’s \n",
    "      their Double Day. Write a program that takes two birthdays and computes their Double Day.\n",
    "\n",
    "    4)For a little more challenge, write the more general version that computes the day when one person is n\n",
    "      times older than the other.\n",
    "\n",
    "```"
   ]
  },
  {
   "cell_type": "markdown",
   "metadata": {},
   "source": [
    "# Exercise 2"
   ]
  },
  {
   "cell_type": "markdown",
   "metadata": {},
   "source": [
    "```bash\n",
    "\n",
    "This exercise is a cautionary tale about one of the most common, and difficult to find, errors in Python. Write a definition for a class named Kangaroo with the following methods:\n",
    "\n",
    "    1)An __init__ method that initializes an attribute named pouch_contents to an empty list.\n",
    "\n",
    "    2)A method named put_in_pouch that takes an object of any type and adds it to pouch_contents.\n",
    "\n",
    "    3)A __str__ method that returns a string representation of the Kangaroo object and the contents of the \n",
    "    pouch.\n",
    "\n",
    "Test your code by creating two Kangaroo objects, assigning them to variables named kanga and roo, and then adding roo to the contents of kanga’s pouch.\n",
    "\n",
    "```"
   ]
  },
  {
   "cell_type": "code",
   "execution_count": null,
   "metadata": {
    "collapsed": true
   },
   "outputs": [],
   "source": []
  }
 ],
 "metadata": {
  "kernelspec": {
   "display_name": "Python 3",
   "language": "python",
   "name": "python3"
  },
  "language_info": {
   "codemirror_mode": {
    "name": "ipython",
    "version": 3
   },
   "file_extension": ".py",
   "mimetype": "text/x-python",
   "name": "python",
   "nbconvert_exporter": "python",
   "pygments_lexer": "ipython3",
   "version": "3.5.1"
  }
 },
 "nbformat": 4,
 "nbformat_minor": 0
}
